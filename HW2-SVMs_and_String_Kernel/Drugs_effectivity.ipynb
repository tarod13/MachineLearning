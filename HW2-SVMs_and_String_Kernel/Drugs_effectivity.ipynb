{
 "cells": [
  {
   "cell_type": "code",
   "execution_count": 28,
   "metadata": {},
   "outputs": [],
   "source": [
    "import numpy as np\n",
    "from sklearn.decomposition import PCA\n",
    "import pylab as plt\n",
    "from sklearn import svm\n",
    "from sklearn.model_selection import train_test_split as split\n",
    "from sklearn.model_selection import cross_val_score\n",
    "from sklearn.model_selection import KFold\n",
    "import time\n",
    "import functools"
   ]
  },
  {
   "cell_type": "code",
   "execution_count": 2,
   "metadata": {},
   "outputs": [],
   "source": [
    "# Data is loaded\n",
    "y_train = np.genfromtxt(\"ytrain.txt\")\n",
    "x_train = np.genfromtxt(\"xtrain.txt\")\n",
    "x_test = np.genfromtxt(\"xtest.txt\")"
   ]
  },
  {
   "cell_type": "code",
   "execution_count": 3,
   "metadata": {
    "collapsed": true
   },
   "outputs": [],
   "source": [
    "# Preprocesamiento\n",
    "# PCA\n",
    "variance_proportion = 0\n",
    "n_principal_components = 0\n",
    "while variance_proportion < 0.9:\n",
    "    n_principal_components = n_principal_components + 1\n",
    "    pca = PCA(n_components=n_principal_components)\n",
    "    pca = pca.fit(x_train)\n",
    "    variance_proportion = np.sum(pca.explained_variance_ratio_)\n",
    "    \n",
    "cumulative_variance_proportion = np.cumsum(pca.explained_variance_ratio_*100)"
   ]
  },
  {
   "cell_type": "code",
   "execution_count": 4,
   "metadata": {},
   "outputs": [
    {
     "data": {
      "text/plain": [
       "array([  7.70541846,  15.16315076,  22.25785039,  29.31747447,\n",
       "        36.23658555,  43.07997398,  49.82170062,  56.47723313,\n",
       "        63.01708441,  69.54402853,  75.93206947,  82.1069952 ,\n",
       "        88.2262417 ,  94.3079858 ])"
      ]
     },
     "execution_count": 4,
     "metadata": {},
     "output_type": "execute_result"
    }
   ],
   "source": [
    "cumulative_variance_proportion"
   ]
  },
  {
   "cell_type": "code",
   "execution_count": 8,
   "metadata": {
    "collapsed": true
   },
   "outputs": [],
   "source": [
    "x_train_train, x_train_test, y_train_train, y_train_test = split(x_train, y_train, test_size=0.1, random_state=0)\n",
    "#kf = KFold(n_splits=5)"
   ]
  },
  {
   "cell_type": "code",
   "execution_count": null,
   "metadata": {},
   "outputs": [],
   "source": [
    "n_C = 10\n",
    "d_max = 10\n",
    "scores = np.zeros([d_max,n_C+1])\n",
    "for d in range(1,d_max+1):\n",
    "    for i in range(0,n_C+1):    \n",
    "        classifier = svm.SVC(C=2**i,kernel='poly',degree=d)\n",
    "        scores[d-1,i] = np.mean(cross_val_score(classifier, x_train_train, y_train_train, cv=5))      "
   ]
  },
  {
   "cell_type": "code",
   "execution_count": 36,
   "metadata": {},
   "outputs": [
    {
     "data": {
      "text/plain": [
       "(10, 11)"
      ]
     },
     "execution_count": 36,
     "metadata": {},
     "output_type": "execute_result"
    }
   ],
   "source": [
    "scores.shape"
   ]
  },
  {
   "cell_type": "code",
   "execution_count": 35,
   "metadata": {
    "collapsed": true
   },
   "outputs": [],
   "source": [
    "plt.imshow(np.rot90(1-np.asarray(scores).T,1),cmap=plt.cm.hot_r,\n",
    "           extent=[0,n_C+1,1,d_max])\n",
    "plt.colorbar()\n",
    "plt.xlabel('d')\n",
    "plt.ylabel('n')\n",
    "plt.savefig('errores_SVM_poly',dpi=300)\n",
    "plt.close()"
   ]
  },
  {
   "cell_type": "code",
   "execution_count": 12,
   "metadata": {},
   "outputs": [],
   "source": [
    "def timeit(func):\n",
    "    @functools.wraps(func)\n",
    "    def newfunc(*args, **kwargs):\n",
    "        startTime = time.time()\n",
    "        func(*args, **kwargs)\n",
    "        elapsedTime = time.time() - startTime\n",
    "        print('function [{}] finished in {} ms'.format(\n",
    "            func.__name__, int(elapsedTime * 1000)))\n",
    "    return newfunc"
   ]
  },
  {
   "cell_type": "code",
   "execution_count": 13,
   "metadata": {},
   "outputs": [],
   "source": [
    "@timeit\n",
    "def SVM_classifier(dim):\n",
    "    clf = svm.SVC(C=1,kernel='poly',degree=dim)\n",
    "    clf.fit(x_train_train,y_train_train)\n",
    "    s = clf.score(x_train_test, y_train_test)\n",
    "    print(s)\n",
    "    return clf"
   ]
  },
  {
   "cell_type": "code",
   "execution_count": 27,
   "metadata": {},
   "outputs": [
    {
     "name": "stdout",
     "output_type": "stream",
     "text": [
      "0.72\n",
      "function [SVM_classifier] finished in 295 ms\n"
     ]
    }
   ],
   "source": [
    "classifier = SVM_classifier(10)"
   ]
  },
  {
   "cell_type": "code",
   "execution_count": 18,
   "metadata": {},
   "outputs": [
    {
     "data": {
      "text/plain": [
       "SVC(C=1.0, cache_size=200, class_weight=None, coef0=0.0,\n",
       "  decision_function_shape='ovr', degree=2, gamma='auto', kernel='poly',\n",
       "  max_iter=-1, probability=False, random_state=None, shrinking=True,\n",
       "  tol=0.001, verbose=False)"
      ]
     },
     "execution_count": 18,
     "metadata": {},
     "output_type": "execute_result"
    }
   ],
   "source": [
    "classifier.fit(x_train_train,y_train_train)"
   ]
  },
  {
   "cell_type": "code",
   "execution_count": 89,
   "metadata": {},
   "outputs": [
    {
     "ename": "AttributeError",
     "evalue": "'NoneType' object has no attribute 'score'",
     "output_type": "error",
     "traceback": [
      "\u001b[0;31m---------------------------------------------------------------------------\u001b[0m",
      "\u001b[0;31mAttributeError\u001b[0m                            Traceback (most recent call last)",
      "\u001b[0;32m<ipython-input-89-6109f6e49324>\u001b[0m in \u001b[0;36m<module>\u001b[0;34m()\u001b[0m\n\u001b[0;32m----> 1\u001b[0;31m \u001b[0mclassifier\u001b[0m\u001b[0;34m.\u001b[0m\u001b[0mscore\u001b[0m\u001b[0;34m(\u001b[0m\u001b[0mx_train_test\u001b[0m\u001b[0;34m,\u001b[0m \u001b[0my_train_test\u001b[0m\u001b[0;34m)\u001b[0m\u001b[0;34m\u001b[0m\u001b[0m\n\u001b[0m",
      "\u001b[0;31mAttributeError\u001b[0m: 'NoneType' object has no attribute 'score'"
     ]
    }
   ],
   "source": [
    "classifier.score(x_train_test, y_train_test)"
   ]
  },
  {
   "cell_type": "code",
   "execution_count": 33,
   "metadata": {},
   "outputs": [
    {
     "data": {
      "text/plain": [
       "0.0"
      ]
     },
     "execution_count": 33,
     "metadata": {},
     "output_type": "execute_result"
    }
   ],
   "source": [
    "a = np.zeros([2,2])\n",
    "a[1,1]"
   ]
  },
  {
   "cell_type": "code",
   "execution_count": 10,
   "metadata": {
    "collapsed": true
   },
   "outputs": [],
   "source": []
  },
  {
   "cell_type": "code",
   "execution_count": null,
   "metadata": {
    "collapsed": true
   },
   "outputs": [],
   "source": []
  }
 ],
 "metadata": {
  "kernelspec": {
   "display_name": "Python 3",
   "language": "python",
   "name": "python3"
  },
  "language_info": {
   "codemirror_mode": {
    "name": "ipython",
    "version": 3
   },
   "file_extension": ".py",
   "mimetype": "text/x-python",
   "name": "python",
   "nbconvert_exporter": "python",
   "pygments_lexer": "ipython3",
   "version": "3.5.2"
  }
 },
 "nbformat": 4,
 "nbformat_minor": 2
}
